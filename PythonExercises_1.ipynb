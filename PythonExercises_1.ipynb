{
  "nbformat": 4,
  "nbformat_minor": 0,
  "metadata": {
    "colab": {
      "private_outputs": true,
      "provenance": [],
      "authorship_tag": "ABX9TyMwFsOMSI9/ihvn39tM/urc",
      "include_colab_link": true
    },
    "kernelspec": {
      "name": "python3",
      "display_name": "Python 3"
    },
    "language_info": {
      "name": "python"
    }
  },
  "cells": [
    {
      "cell_type": "markdown",
      "metadata": {
        "id": "view-in-github",
        "colab_type": "text"
      },
      "source": [
        "<a href=\"https://colab.research.google.com/github/CarolinaGarza22/LauraCarolinaGarzaLozano/blob/main/PythonExercises_1.ipynb\" target=\"_parent\"><img src=\"https://colab.research.google.com/assets/colab-badge.svg\" alt=\"Open In Colab\"/></a>"
      ]
    },
    {
      "cell_type": "markdown",
      "source": [
        "**Laura Carolina Garza Lozano**\n",
        "\n",
        "2077606\n",
        "\n",
        "Thursday N4-N6\n"
      ],
      "metadata": {
        "id": "PXYqQQS-LKvZ"
      }
    },
    {
      "cell_type": "markdown",
      "source": [
        "**TEXT ANAYSIS TOOL**\n",
        "\n",
        "Count\n",
        "*   words YA\n",
        "*   sentences\n",
        "*   paragraphs\n",
        "\n",
        "Calculate\n",
        "*   the average word length YA\n",
        "\n",
        "Identify\n",
        "*   the most common words\n",
        "*   their frequiencies"
      ],
      "metadata": {
        "id": "tKtKruWaKdNy"
      }
    },
    {
      "cell_type": "code",
      "source": [
        "import re\n",
        "\n",
        "text_file = \"\"\"\n",
        "Párrafo 1: Este es el primer párrafo del texto de ejemplo.\n",
        "Incluye varias oraciones para ilustrar cómo funciona el conteo de párrafos.\n",
        "\n",
        "Párrafo 2: Aquí tenemos un segundo párrafo. Puede haber párrafos más cortos o más largos en un texto.\n",
        "Cada párrafo generalmente contiene un conjunto de ideas relacionadas.\n",
        "\n",
        "Párrafo 3: Este es el tercer párrafo. Puede haber saltos de línea o líneas en blanco entre los párrafos,\n",
        "pero el código debería ser capaz de identificarlos y contar los párrafos correctamente.\"\"\"\n",
        "\n",
        "\n",
        "n_words=len(re.findall(r'\\w+', text_file))\n",
        "num_sentences = len(text.split('.'))\n",
        "\n",
        "\n",
        "regex = r\"[A-Z][\\w\\s\\d\\,\\'\\;\\:\\\"\\(\\)\\[\\]\\%\\$\\!\\?]*(\\.)\"\n",
        "len(list(re.finditer(regex, text_file)))\n",
        "# Utiliza una expresión regular para buscar párrafos basados en líneas en blanco o saltos de línea.\n",
        "paragraphs = re.split(r'\\n\\s*\\n|\\n{2,}', text_file)\n",
        "# Elimina los párrafos vacíos (si los hay).\n",
        "paragraphs = [p.strip() for p in paragraphs if p.strip()]\n",
        "# Calcula el número de párrafos.\n",
        "n_paragraphs = len(paragraphs)\n",
        "\n",
        "print(\"Number of word: \"+str(n_words))\n",
        "print('Number of sentences:', results['num_sentences'])\n",
        "print(\"Number of paragraphs:\", n_paragraphs)\n",
        "\n",
        "\n",
        "#Calculate the average word length.\n",
        "\n",
        "def averageWordLength(text):\n",
        "  letters=len(text)\n",
        "  words=text.split()\n",
        "  n_words=len(words)\n",
        "  print(\"The total of letters: \", letters)\n",
        "  print(\"The total of words: \", n_words)\n",
        "  if n_words==0:\n",
        "    return 0\n",
        "  else:\n",
        "    result=float(letters/n_words)\n",
        "    return result\n",
        "#Calling the function\n",
        "avg_length = averageWordLength(text_file)\n",
        "print(\"The average word length:\", avg_length)\n",
        "\n",
        "from collections import Counter\n",
        "\n",
        "# split() returns list of all the words in the string\n",
        "split_it = text_file.split()\n",
        "\n",
        "# Pass the split_it list to instance of Counter class.\n",
        "Counter = Counter(split_it)\n",
        "\n",
        "# most_common() produces k frequently encountered\n",
        "# input values and their respective counts.\n",
        "most_occur = Counter.most_common(4)\n",
        "\n",
        "print(\"The most common words\", most_occur)\n"
      ],
      "metadata": {
        "id": "1o45V-P6CMaH"
      },
      "execution_count": null,
      "outputs": []
    },
    {
      "cell_type": "markdown",
      "source": [
        "**Hangman Game: **\n",
        "\n",
        "Create a Python program that allows a user to play the game of Hangman.\n",
        "\n",
        "The program should randomly select a word from a predefined list, and the player must guess letters one at a time until they guess the word correctly or run out of attempts."
      ],
      "metadata": {
        "id": "oNE7DpdiPEmT"
      }
    },
    {
      "cell_type": "code",
      "source": [
        "import random\n",
        "\n",
        "word_list = [\"rainbow\", \"stalker\", \"juicie\", \"bottle\", \"vodka\", \"animal\", \"wednesday\",\n",
        "          \"birthday\", \"september\", \"friend\", \"lucky\", \"sad\", \"food\", \"car\", \"gas\"]\n",
        "\n",
        "def get_word(word_list):\n",
        "    return random.choice(word_list)\n",
        "\n",
        "word_letter = get_word(word_list)\n",
        "letters = list(word_letter)\n",
        "print(letters)\n",
        "\n",
        "correct_guesses = 0\n",
        "attempts = 3  # Mover esta variable fuera del bucle while\n",
        "\n",
        "# Loop para que el usuario intente hasta adivinar todas las letras\n",
        "while correct_guesses < len(letters) and attempts > 0:  # Añadir condición para verificar intentos\n",
        "    user_input = input(f\"Guess letter {correct_guesses + 1}: \").lower()\n",
        "\n",
        "    if user_input == letters[correct_guesses]:\n",
        "        print(f\"Letter {correct_guesses + 1}: Correct!\")\n",
        "        correct_guesses += 1\n",
        "    else:\n",
        "        print(f\"Letter {correct_guesses + 1}: Incorrect. Try again!\")\n",
        "        attempts -= 1  # Reducir los intentos después de un intento fallido\n",
        "\n",
        "if correct_guesses == len(letters):\n",
        "    print(\"Congratulations! You guessed the word:\", \"\".join(letters))\n",
        "else:\n",
        "    print(\"GAME OVER\")"
      ],
      "metadata": {
        "id": "9RIxAl-QXmAi"
      },
      "execution_count": null,
      "outputs": []
    },
    {
      "cell_type": "markdown",
      "source": [
        "**Number Guessing Game: **\n",
        "\n",
        "Create a program that generates a random number between 1 and 100, and then asks the user to guess the number. The program should provide hints to the user if the guessed number is greater or less than the target number, and keep asking for a new guess until the user guesses correctly."
      ],
      "metadata": {
        "id": "B1AD6el6TxKv"
      }
    },
    {
      "cell_type": "code",
      "source": [
        "import random\n",
        "num= random.randrange(1,99)\n",
        "guess=int(input(\"Guess the number betwwen 1-100 \"))\n",
        "\n",
        "while num!=guess:\n",
        "      print(\"Sorry, keep trying\")\n",
        "\n",
        "      if guess>num:\n",
        "        print(\"The number is less, try again \")\n",
        "      elif guess<num:\n",
        "        print(\"The number is greater, try again \")\n",
        "      guess=int(input(\"Guess again \"))\n",
        "\n",
        "print (\"Congratulations, you guessed it. The number is: \", num)\n",
        "\n"
      ],
      "metadata": {
        "id": "mUn8aJ2FWT-i"
      },
      "execution_count": null,
      "outputs": []
    }
  ]
}